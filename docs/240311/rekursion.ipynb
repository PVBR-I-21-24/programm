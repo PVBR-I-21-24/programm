{
 "cells": [
  {
   "cell_type": "markdown",
   "metadata": {},
   "source": [
    "<a target=\"_blank\" href=\"https://colab.research.google.com/github/PVBR-I-21-24/programm/blob/main/docs/240311/rekursion.ipynb\">\n",
    "  <img src=\"https://colab.research.google.com/assets/colab-badge.svg\" alt=\"Open In Colab\"/>\n",
    "</a>"
   ]
  },
  {
   "cell_type": "markdown",
   "metadata": {},
   "source": [
    "# Rekursion in Beispielen"
   ]
  },
  {
   "cell_type": "markdown",
   "metadata": {
    "id": "lrE1Y2EzfJnS"
   },
   "source": [
    "## Die Gausssche Summenformel"
   ]
  },
  {
   "cell_type": "markdown",
   "metadata": {},
   "source": [
    "Der Deutsche Mathematiker Carl Friedich Gauss soll nach der Legende\n",
    "seinen Mathematiklehrer bei einer Strafaufgabe überlistet haben. Gemäss\n",
    "dieser Legende soll der Lehrer Gauss (und seinen Klassenkameraden) den\n",
    "Auftrag gegen haben, die Zahlen von 1 bis 100 zusammenzuzählen.\n",
    "\n",
    "Gauss soll nach kurzer Zeit mit der Lösung zum Lehrer gegangen sein.\n",
    "Gauss' Lösung basierte auf folgender Formel:\n",
    "\n",
    "$$\n",
    "1 + 2 + 3 + ... + (n-1) + n = \\sum_{k=1}^{n}k = \\frac{n(n+1)}{2}\n",
    "$$"
   ]
  },
  {
   "cell_type": "markdown",
   "metadata": {},
   "source": [
    "Diese Formel kann direkt als Funktion implementiert werden. Das\n",
    "entsprechende Beispiel finden sie in der folgenden Zelle."
   ]
  },
  {
   "cell_type": "code",
   "execution_count": null,
   "metadata": {},
   "outputs": [],
   "source": [
    "def gauss_direct(n : int) -> int:\n",
    "    return int((n*(n+1))/2)\n",
    "\n",
    "print(f'Die Summe der Zahlen von 1 '\n",
    "      f'bis 100 ist {gauss_direct(100)}.')"
   ]
  },
  {
   "cell_type": "markdown",
   "metadata": {},
   "source": [
    "Alternativ kann die Formel aber auch rekursiv implementiert werden.\n",
    "Entsprechend stellt sich die Frage, was wäre ein kleineres, aber\n",
    "grundsätzlich gleichartiges Problem?  \n",
    "Im vorliegenden Fall wäre das einfachste gleichartige Problem, die Summe\n",
    "aus einer Liste von Zahlen mit der Länge 1 und dem Wert 1 zu bilden.\n",
    "Dann ist die Summe auch 1. Als Formel könnte man das so schreiben:\n",
    "\n",
    "$$\n",
    "\\sum_{k=1}^{n}k = 1, \\text{ sofern } n=1\n",
    "$$\n",
    "\n",
    "Daraus ergibt sich die Frage, wie man von $n=100$ zu $n=1$ kommt.\n",
    "\n",
    "Für alle Fälle, in denen $n>1$ ist, gilt\n",
    "\n",
    "$$\n",
    "\\sum_{k=1}^{n}k = n + \\sum_{k=1}^{n-1}k\n",
    "$$\n",
    "\n",
    "In dieser Formel kann nun immer wieder $n-1$ eingesetzt werden. Das ist\n",
    "die Rekursion.\n",
    "\n",
    "Zusammengefasst kann dies folgendermassen dargestellt werden:\n",
    "\n",
    "$$\n",
    "\\sum_{k=1}^{n}=\n",
    "\\left\\{\n",
    "    \\begin{array}{lll}\n",
    "        1,&n=1&\\text{Basisfall}\\\\\n",
    "        n+\\sum\\limits_{k=1}^{n-1}k,&\\forall n > 1&\\text{Rekursionsfall}\n",
    "    \\end{array}\n",
    "\\right.\n",
    "$$"
   ]
  },
  {
   "cell_type": "markdown",
   "metadata": {},
   "source": [
    "Der Basisfall ist einerseits der einfachste Fall und andererseits auch\n",
    "der letzte Fall, der bearbeitet werden muss.  \n",
    "Beides ist wichtig. Dass der Basisfall der einfachste Fall ist, hilft das\n",
    "Problem zu lösen. Dass der Basisfall der Lezte Fall ist, der bearbeitet\n",
    "werden muss, ermöglicht es, die Rekursion zu beenden."
   ]
  },
  {
   "cell_type": "markdown",
   "metadata": {},
   "source": [
    "Im Rekursionsfall steht \"$\\forall n > 1$\". Das $\\forall$ Zeichen ist der\n",
    "sogenannte Allquantor und bedeutet hier \"**für alle** $n$ grösser als $1$.  "
   ]
  },
  {
   "cell_type": "markdown",
   "metadata": {},
   "source": [
    "Das eine Problemlösung rekursiv implementiert wird, bedeutet, dass die\n",
    "Funktion sich selber aufruft.  \n",
    "In der folgenden Zelle wird die gausssche Summenformel gemäss obiger\n",
    "Darstellung rekursiv implementiert."
   ]
  },
  {
   "cell_type": "code",
   "execution_count": null,
   "metadata": {},
   "outputs": [],
   "source": [
    "def gauss_recursive(n : int) -> int:\n",
    "    # TODO: rekursive Implementation des kleinen Gauss\n",
    "    pass\n",
    "    \n",
    "print(f'Die Summe der Zahlen von 1 '\n",
    "      f'bis 100 ist {gauss_recursive(100)}.')"
   ]
  },
  {
   "cell_type": "markdown",
   "metadata": {},
   "source": [
    "## Fakultät"
   ]
  },
  {
   "cell_type": "markdown",
   "metadata": {},
   "source": [
    "Mit Fakultät ($n!$) wird in der Mathematik jene Funktion bezeichnet mit der\n",
    "alle natürlichen Zahlen $\\leq n$ miteinander multipliziert werden.\n",
    "\n",
    "$$\n",
    "n! = 1 \\cdot 2 \\cdot ... \\cdot (n-1) \\cdot n = \\prod\\limits_{k=1}^{n} k\n",
    "$$\n",
    "\n",
    "Als Besonderheit muss mann wissen, dass $0! = 1$ gilt."
   ]
  },
  {
   "cell_type": "markdown",
   "metadata": {},
   "source": [
    "In Python kann dies mit einer `for` Schleife berechnet werden. In der\n",
    "folgenden Zelle wird eine entsprechende Funktion definiert."
   ]
  },
  {
   "cell_type": "code",
   "execution_count": null,
   "metadata": {},
   "outputs": [],
   "source": [
    "def factorial_loop(n : int) -> int:\n",
    "    numbers = [i for i in range(1, n+1)]\n",
    "    \n",
    "    \"\"\"result wird gleich 1 gesetzt, \n",
    "    weil 1 das neutrale Element der\n",
    "    Multiplikation ist \"\"\"\n",
    "    result = 1\n",
    "    for n in numbers:\n",
    "        result *= n\n",
    "    \n",
    "    return result\n",
    "\n",
    "print(f'Das Resultat von 5! ist '\n",
    "      f'{factorial_loop(5)}.')"
   ]
  },
  {
   "cell_type": "markdown",
   "metadata": {},
   "source": [
    "Die Funktion kann allerdings auch rekursiv definiert werden. Die\n",
    "Definition sieht dann folgendermassen aus:\n",
    "\n",
    "$$\n",
    "n! =\n",
    "\\left\\{\n",
    "    \\begin{array}{lll}\n",
    "        1,&n=0 \\lor n=1&\\text{Basisfall}\\\\\n",
    "        n \\times (n - 1)!, &\\forall n > 1& \\text{Rekursionsfall}\\\\\n",
    "    \\end{array}\n",
    "\\right.\n",
    "$$\n",
    "\n",
    "Entsprechend kann eine Funktion zur Berechnung von $n!$ auch rekursiv\n",
    "implementiert werden."
   ]
  },
  {
   "cell_type": "code",
   "execution_count": null,
   "metadata": {},
   "outputs": [],
   "source": [
    "def factorial_recursive(n : int) -> int:\n",
    "    # TODO: rekursive Implementation der Fakultätsfunktion\n",
    "    pass\n",
    "    \n",
    "print(f'Das Resultat von 5! ist '\n",
    "      f'{factorial_recursive(5)}.')"
   ]
  },
  {
   "cell_type": "markdown",
   "metadata": {},
   "source": [
    "## Fibonacci-Folge"
   ]
  },
  {
   "cell_type": "markdown",
   "metadata": {},
   "source": [
    "Die Fibonacci-Folge - benannt nach dem Italienischen Mathematiker\n",
    "[Leonardo Fibonacci](https://de.wikipedia.org/wiki/Leonardo_Fibonacci) - \n",
    "ist eine Zahlenfolge, in welcher die nächste Zahl die Summe der beiden\n",
    "vorangegangenen Zahlen bildet. In Zahlen sieht das folgendermassen aus:\n",
    "\n",
    "$$\n",
    "1, 1, 2, 3, 5, 8, 13, \\dots\n",
    "$$\n",
    "\n",
    "<figure>\n",
    "<img src=\"Fibonacci_numbers_in_Zurich_HB.jpg\" style=\"width:75%\">\n",
    "<figcaption align = \"left\"> \n",
    "<a href=\"https://de.wikipedia.org/wiki/Fibonacci-Folge#Rezeption_in_Kunst_und_Unterhaltung\">Quelle</a>  (besucht am 6. März 24)</figcaption>\n",
    "</figure>\n",
    "\n",
    "Die Fibonacci-Folge wird rekursiv deifiniert:\n",
    "\n",
    "$$\n",
    "f_n = f_{n-1} + f_{n-2},\\ \\text{sofern}\\ n \\geq 3\n",
    "$$"
   ]
  },
  {
   "cell_type": "markdown",
   "metadata": {},
   "source": [
    "Damit drängt sich auf, dass eine Funktion, welche die $n$-te Fibonacci\n",
    "Zahl ausgibt, ebenfalls rekursiv implementiert wird."
   ]
  },
  {
   "cell_type": "code",
   "execution_count": null,
   "metadata": {},
   "outputs": [],
   "source": [
    "def fibonacci(n : int) -> int:\n",
    "    # TODO: Implementation der rekursiven Berechnung der n-ten\n",
    "    # Fibonacci-Zahl\n",
    "    pass\n",
    "    \n",
    "print(f'Die zehnte Fibonacci Zahl ist '\n",
    "      f'{fibonacci(10)}.')"
   ]
  },
  {
   "cell_type": "markdown",
   "metadata": {},
   "source": [
    "In Umkehrung der vorangegangenen beiden Beispiele kann jetzt die\n",
    "rekursive Implementierung für die Berechnung der $n$-ten Fibonacci Zahl\n",
    "eine Implementierung mit einer Schleife vorgenommen werden."
   ]
  },
  {
   "cell_type": "code",
   "execution_count": null,
   "metadata": {},
   "outputs": [],
   "source": [
    "def fibonacci_loop(n : int) -> int:\n",
    "    # TODO: iterative Implementation der Berechnung der n-ten\n",
    "    # Fibonacci-Zahl \n",
    "    pass\n",
    "\n",
    "print(f'Die zehnte Fibonacci Zahl ist '\n",
    "      f'{fibonacci_loop(10)}.')"
   ]
  }
 ],
 "metadata": {
  "colab": {
   "authorship_tag": "ABX9TyOlZt25abutpv60LzeROxe2",
   "provenance": []
  },
  "kernelspec": {
   "display_name": "Python 3 (ipykernel)",
   "language": "python",
   "name": "python3"
  },
  "language_info": {
   "codemirror_mode": {
    "name": "ipython",
    "version": 3
   },
   "file_extension": ".py",
   "mimetype": "text/x-python",
   "name": "python",
   "nbconvert_exporter": "python",
   "pygments_lexer": "ipython3",
   "version": "3.11.8"
  }
 },
 "nbformat": 4,
 "nbformat_minor": 1
}
